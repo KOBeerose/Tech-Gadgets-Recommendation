{
 "cells": [
  {
   "cell_type": "markdown",
   "metadata": {},
   "source": [
    "#  Tech Gadgets Recommendation\n",
    "\n"
   ]
  },
  {
   "cell_type": "markdown",
   "metadata": {},
   "source": [
    "## Objective\n",
    "Recommending a tech gadget for a user"
   ]
  },
  {
   "cell_type": "markdown",
   "metadata": {},
   "source": [
    "## Dataset source\n",
    "Amazon electronics product data: including 5 core reviews data (5-core (1,689,188 reviews)\n"
   ]
  },
  {
   "cell_type": "markdown",
   "metadata": {},
   "source": [
    "https://jmcauley.ucsd.edu/data/amazon/"
   ]
  },
  {
   "cell_type": "markdown",
   "metadata": {},
   "source": [
    "Amazon electronics product metadata: (metadata (786,868 products) from below dataset"
   ]
  },
  {
   "cell_type": "markdown",
   "metadata": {},
   "source": [
    "https://nijianmo.github.io/amazon/index.html"
   ]
  },
  {
   "cell_type": "markdown",
   "metadata": {},
   "source": [
    "## Sample from review Dataset"
   ]
  },
  {
   "cell_type": "markdown",
   "metadata": {},
   "source": [
    ">\"reviewerID\": \"AO94DHGC771SJ\", <br>\n",
    "\"asin\": \"0528881469\", <br>\n",
    "\"reviewerName\": \"amazdnu\", <br>\n",
    "\"helpful\": [0, 0], <br>\n",
    "\"reviewText\": \"We got this GPS for my husband who is an (OTR) over the road trucker.  Very Impressed with the shipping time, it arrived a few days earlier than expected...  within a week of use however it started freezing up... could of just been a glitch in that unit.  Worked great when it worked!  Will work great for the normal person as well but does have the \\\"trucker\\\" option. (the big truck routes - tells you when a scale is coming up ect...)  Love the bigger screen, the ease of use, the ease of putting addresses into memory.\", <br>\n",
    "\"overall\": 5.0, <br>\n",
    "\"summary\": \"Gotta have GPS!\", <br>\n",
    "\"unixReviewTime\": 1370131200, <br>\n",
    "\"reviewTime\": \"06 2, 2013\""
   ]
  },
  {
   "cell_type": "markdown",
   "metadata": {},
   "source": [
    "## Sample from metadata Dataset"
   ]
  },
  {
   "cell_type": "markdown",
   "metadata": {},
   "source": [
    ">\"asin\" - \"ID of the product, e.g. 0000031852\"<br>\n",
    "\"title\" - \"name of the product\"<br>\n",
    "\"price\" - \"price in US dollars (at time of crawl)\"<br>\n",
    "\"imUrl\" - \"url of the product image\"<br>\n",
    "\"related\" - \"related products (also bought, also viewed, bought together, buy after viewing)\"<br>\n",
    "\"salesRank\" - \"sales rank information\"<br>\n",
    "\"brand\" - \"brand name\"<br>\n",
    "\"categories\" - \"list of categories the product belongs to\""
   ]
  },
  {
   "cell_type": "code",
   "execution_count": 3,
   "metadata": {},
   "outputs": [
    {
     "name": "stdout",
     "output_type": "stream",
     "text": [
      "Total data: (2, 9)\n"
     ]
    },
    {
     "data": {
      "text/html": [
       "<div>\n",
       "<style scoped>\n",
       "    .dataframe tbody tr th:only-of-type {\n",
       "        vertical-align: middle;\n",
       "    }\n",
       "\n",
       "    .dataframe tbody tr th {\n",
       "        vertical-align: top;\n",
       "    }\n",
       "\n",
       "    .dataframe thead th {\n",
       "        text-align: right;\n",
       "    }\n",
       "</style>\n",
       "<table border=\"1\" class=\"dataframe\">\n",
       "  <thead>\n",
       "    <tr style=\"text-align: right;\">\n",
       "      <th></th>\n",
       "      <th>reviewerID</th>\n",
       "      <th>asin</th>\n",
       "      <th>reviewerName</th>\n",
       "      <th>helpful</th>\n",
       "      <th>reviewText</th>\n",
       "      <th>Rating</th>\n",
       "      <th>summary</th>\n",
       "      <th>unixReviewTime</th>\n",
       "      <th>reviewTime</th>\n",
       "    </tr>\n",
       "  </thead>\n",
       "  <tbody>\n",
       "    <tr>\n",
       "      <th>0</th>\n",
       "      <td>AO94DHGC771SJ</td>\n",
       "      <td>528881469</td>\n",
       "      <td>amazdnu</td>\n",
       "      <td>[0, 0]</td>\n",
       "      <td>We got this GPS for my husband who is an (OTR)...</td>\n",
       "      <td>5</td>\n",
       "      <td>Gotta have GPS!</td>\n",
       "      <td>1370131200</td>\n",
       "      <td>06 2, 2013</td>\n",
       "    </tr>\n",
       "    <tr>\n",
       "      <th>1</th>\n",
       "      <td>AMO214LNFCEI4</td>\n",
       "      <td>528881469</td>\n",
       "      <td>Amazon Customer</td>\n",
       "      <td>[12, 15]</td>\n",
       "      <td>I'm a professional OTR truck driver, and I bou...</td>\n",
       "      <td>1</td>\n",
       "      <td>Very Disappointed</td>\n",
       "      <td>1290643200</td>\n",
       "      <td>11 25, 2010</td>\n",
       "    </tr>\n",
       "  </tbody>\n",
       "</table>\n",
       "</div>"
      ],
      "text/plain": [
       "      reviewerID       asin     reviewerName   helpful  \\\n",
       "0  AO94DHGC771SJ  528881469          amazdnu    [0, 0]   \n",
       "1  AMO214LNFCEI4  528881469  Amazon Customer  [12, 15]   \n",
       "\n",
       "                                          reviewText  Rating  \\\n",
       "0  We got this GPS for my husband who is an (OTR)...       5   \n",
       "1  I'm a professional OTR truck driver, and I bou...       1   \n",
       "\n",
       "             summary  unixReviewTime   reviewTime  \n",
       "0    Gotta have GPS!      1370131200   06 2, 2013  \n",
       "1  Very Disappointed      1290643200  11 25, 2010  "
      ]
     },
     "execution_count": 3,
     "metadata": {},
     "output_type": "execute_result"
    }
   ],
   "source": [
    "# Dataframe\n",
    "import pandas as pd\n",
    "\n",
    "# Decompress the file\n",
    "import gzip\n",
    "\n",
    "\n",
    "## Imporing a sample of Electronics Data with Pandas\n",
    "\n",
    "with open('Datasets/Sample_Electronics.json') as data:\n",
    "    review_df = pd.read_json(data, orient='records', lines=True,)\n",
    "\n",
    "\n",
    "## Checking the sample in Pandas\n",
    "\n",
    "review_df = review_df.rename(columns={'overall': 'Rating'})\n",
    "\n",
    "print (\"Total data:\", str(review_df.shape))\n",
    "review_df.head()"
   ]
  }
 ],
 "metadata": {
  "kernelspec": {
   "display_name": "Python 3",
   "language": "python",
   "name": "python3"
  },
  "language_info": {
   "codemirror_mode": {
    "name": "ipython",
    "version": 3
   },
   "file_extension": ".py",
   "mimetype": "text/x-python",
   "name": "python",
   "nbconvert_exporter": "python",
   "pygments_lexer": "ipython3",
   "version": "3.8.5"
  }
 },
 "nbformat": 4,
 "nbformat_minor": 4
}
