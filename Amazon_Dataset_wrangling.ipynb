{
 "cells": [
  {
   "cell_type": "markdown",
   "metadata": {},
   "source": [
    "#  Tech Gadgets Recommendation\n",
    "\n"
   ]
  },
  {
   "cell_type": "markdown",
   "metadata": {},
   "source": [
    "## Objective\n",
    "Recommending a tech gadget for a user"
   ]
  },
  {
   "cell_type": "markdown",
   "metadata": {},
   "source": [
    "## Dataset source\n",
    "Amazon Cell Phones and Accessories product data: including 5 core reviews data 5-core (1,128,437 reviews) from below dataset\n"
   ]
  },
  {
   "cell_type": "markdown",
   "metadata": {},
   "source": [
    "https://jmcauley.ucsd.edu/data/amazon/"
   ]
  },
  {
   "cell_type": "markdown",
   "metadata": {},
   "source": [
    "Amazon Cell Phones and Accessories product metadata: metadata (590,269 products) from below dataset"
   ]
  },
  {
   "cell_type": "markdown",
   "metadata": {},
   "source": [
    "https://nijianmo.github.io/amazon/index.html"
   ]
  },
  {
   "cell_type": "markdown",
   "metadata": {},
   "source": [
    "## Sample from review Dataset"
   ]
  },
  {
   "cell_type": "markdown",
   "metadata": {},
   "source": [
    "```Json\n",
    "\n",
    "\"overall\":5.0,\n",
    "\"verified\":true,\n",
    "\"reviewTime\":\"08 4, 2014\",\n",
    "\"reviewerID\":\"A24E3SXTC62LJI\",\n",
    "\"asin\":\"7508492919\",\n",
    "\"style\":{\n",
    "  \"Color:\":\" Bling\"\n",
    "},\n",
    "\"reviewerName\":\"Claudia Valdivia\",\n",
    "\"reviewText\":\"Looks even better in person. Be careful to not drop your phone so often because the rhinestones will fall off (duh). More of a decorative case than it is protective, but I will say that it fits perfectly and securely on my phone. Overall, very pleased with this purchase.\",\n",
    "\"summary\":\"Can't stop won't stop looking at it\",\n",
    "\"unixReviewTime\":1407110400\n",
    "\n",
    "```"
   ]
  },
  {
   "cell_type": "markdown",
   "metadata": {},
   "source": [
    "## Sample from metadata Dataset"
   ]
  },
  {
   "cell_type": "markdown",
   "metadata": {},
   "source": [
    "```Json\n",
    "\n",
    "\"category\":[\n",
    "  \"Cell Phones & Accessories\",\n",
    "  \"Cases, Holsters & Sleeves\"\n",
    "],\n",
    "\"tech1\":\"\",\n",
    "\"description\":[\n",
    "  \"\",\n",
    "  \"Elegani Butterfly Case 3D Pattern Back Cover Case Skin For Apple iPhone 5 5G\",\n",
    "  \"Ultra light weight case\",\n",
    "  \"Elegantly designed with 3D cutout effect\",\n",
    "  \"Super rich rubber coating\"\n",
    "],\n",
    "\"fit\":\"\",\n",
    "\"title\":\"MinisDesign 3d Bling Crystal Bow Transparent Case for Apple Iphone 4 and 4s-Pink\",\n",
    "\"also_buy\":[\n",
    "\n",
    "],\n",
    "\"tech2\":\"\",\n",
    "\"brand\":\"ELEGANI\",\n",
    "\"feature\":[\n",
    "  \"Fashionable with unique 3D butterfly design for the iPhone 5 from others\",\n",
    "  \"Precise cut design with access to all ports and features of the iPhone 5\",\n",
    "  \"Dirt-resistant Butterfly Case for iPhone 5 with 3D PC Cover\",\n",
    "  \"Design: Simple hard back case, Luxury and classical butterfly\",\n",
    "  \"3D art design. Creative 3D butterfly design\"\n",
    "],\n",
    "\"rank\":[\n",
    "  \">#228,544 in Cell Phones & Accessories (See Top 100 in Cell Phones & Accessories)\",\n",
    "  \">#114,920 in Cell Phones & Accessories > Cases, Holsters & Clips\"\n",
    "],\n",
    "\"also_view\":[\n",
    "\n",
    "],\n",
    "\"details\":{\n",
    "\n",
    "},\n",
    "\"main_cat\":\"Cell Phones & Accessories\",\n",
    "\"similar_item\":\"\",\n",
    "\"date\":\"\",\n",
    "\"price\":\"\",\n",
    "\"asin\":\"7508492919\",\n",
    "\"imageURL\":[\n",
    "  \"https://images-na.ssl-images-amazon.com/images/I/41Wol0yPcxL._SX38_SY50_CR,0,0,38,50_.jpg\"\n",
    "],\n",
    "\"imageURLHighRes\":[\n",
    "  \"https://images-na.ssl-images-amazon.com/images/I/41Wol0yPcxL.jpg\"\n",
    "]\n",
    "\n",
    "```\n"
   ]
  },
  {
   "cell_type": "markdown",
   "metadata": {},
   "source": [
    "## Preparing Amazon dataset "
   ]
  },
  {
   "cell_type": "code",
   "execution_count": 1,
   "metadata": {},
   "outputs": [
    {
     "name": "stdout",
     "output_type": "stream",
     "text": [
      "Total data: (30390, 12)\n"
     ]
    },
    {
     "data": {
      "text/html": [
       "<div>\n",
       "<style scoped>\n",
       "    .dataframe tbody tr th:only-of-type {\n",
       "        vertical-align: middle;\n",
       "    }\n",
       "\n",
       "    .dataframe tbody tr th {\n",
       "        vertical-align: top;\n",
       "    }\n",
       "\n",
       "    .dataframe thead th {\n",
       "        text-align: right;\n",
       "    }\n",
       "</style>\n",
       "<table border=\"1\" class=\"dataframe\">\n",
       "  <thead>\n",
       "    <tr style=\"text-align: right;\">\n",
       "      <th></th>\n",
       "      <th>Rating</th>\n",
       "      <th>verified</th>\n",
       "      <th>reviewTime</th>\n",
       "      <th>reviewerID</th>\n",
       "      <th>asin</th>\n",
       "      <th>style</th>\n",
       "      <th>reviewerName</th>\n",
       "      <th>reviewText</th>\n",
       "      <th>summary</th>\n",
       "      <th>unixReviewTime</th>\n",
       "      <th>vote</th>\n",
       "      <th>image</th>\n",
       "    </tr>\n",
       "  </thead>\n",
       "  <tbody>\n",
       "    <tr>\n",
       "      <th>0</th>\n",
       "      <td>5</td>\n",
       "      <td>True</td>\n",
       "      <td>08 4, 2014</td>\n",
       "      <td>A24E3SXTC62LJI</td>\n",
       "      <td>7508492919</td>\n",
       "      <td>{'Color:': ' Bling'}</td>\n",
       "      <td>Claudia Valdivia</td>\n",
       "      <td>Looks even better in person. Be careful to not...</td>\n",
       "      <td>Can't stop won't stop looking at it</td>\n",
       "      <td>1407110400</td>\n",
       "      <td>NaN</td>\n",
       "      <td>NaN</td>\n",
       "    </tr>\n",
       "    <tr>\n",
       "      <th>1</th>\n",
       "      <td>5</td>\n",
       "      <td>True</td>\n",
       "      <td>02 12, 2014</td>\n",
       "      <td>A269FLZCB4GIPV</td>\n",
       "      <td>7508492919</td>\n",
       "      <td>NaN</td>\n",
       "      <td>sarah ponce</td>\n",
       "      <td>When you don't want to spend a whole lot of ca...</td>\n",
       "      <td>1</td>\n",
       "      <td>1392163200</td>\n",
       "      <td>NaN</td>\n",
       "      <td>NaN</td>\n",
       "    </tr>\n",
       "    <tr>\n",
       "      <th>2</th>\n",
       "      <td>3</td>\n",
       "      <td>True</td>\n",
       "      <td>02 8, 2014</td>\n",
       "      <td>AB6CHQWHZW4TV</td>\n",
       "      <td>7508492919</td>\n",
       "      <td>NaN</td>\n",
       "      <td>Kai</td>\n",
       "      <td>so the case came on time, i love the design. I...</td>\n",
       "      <td>Its okay</td>\n",
       "      <td>1391817600</td>\n",
       "      <td>NaN</td>\n",
       "      <td>NaN</td>\n",
       "    </tr>\n",
       "    <tr>\n",
       "      <th>3</th>\n",
       "      <td>2</td>\n",
       "      <td>True</td>\n",
       "      <td>02 4, 2014</td>\n",
       "      <td>A1M117A53LEI8</td>\n",
       "      <td>7508492919</td>\n",
       "      <td>NaN</td>\n",
       "      <td>Sharon Williams</td>\n",
       "      <td>DON'T CARE FOR IT.  GAVE IT AS A GIFT AND THEY...</td>\n",
       "      <td>CASE</td>\n",
       "      <td>1391472000</td>\n",
       "      <td>NaN</td>\n",
       "      <td>NaN</td>\n",
       "    </tr>\n",
       "    <tr>\n",
       "      <th>4</th>\n",
       "      <td>4</td>\n",
       "      <td>True</td>\n",
       "      <td>02 3, 2014</td>\n",
       "      <td>A272DUT8M88ZS8</td>\n",
       "      <td>7508492919</td>\n",
       "      <td>NaN</td>\n",
       "      <td>Bella Rodriguez</td>\n",
       "      <td>I liked it because it was cute, but the studs ...</td>\n",
       "      <td>Cute!</td>\n",
       "      <td>1391385600</td>\n",
       "      <td>NaN</td>\n",
       "      <td>NaN</td>\n",
       "    </tr>\n",
       "  </tbody>\n",
       "</table>\n",
       "</div>"
      ],
      "text/plain": [
       "   Rating  verified   reviewTime      reviewerID        asin  \\\n",
       "0       5      True   08 4, 2014  A24E3SXTC62LJI  7508492919   \n",
       "1       5      True  02 12, 2014  A269FLZCB4GIPV  7508492919   \n",
       "2       3      True   02 8, 2014   AB6CHQWHZW4TV  7508492919   \n",
       "3       2      True   02 4, 2014   A1M117A53LEI8  7508492919   \n",
       "4       4      True   02 3, 2014  A272DUT8M88ZS8  7508492919   \n",
       "\n",
       "                  style      reviewerName  \\\n",
       "0  {'Color:': ' Bling'}  Claudia Valdivia   \n",
       "1                   NaN       sarah ponce   \n",
       "2                   NaN               Kai   \n",
       "3                   NaN   Sharon Williams   \n",
       "4                   NaN   Bella Rodriguez   \n",
       "\n",
       "                                          reviewText  \\\n",
       "0  Looks even better in person. Be careful to not...   \n",
       "1  When you don't want to spend a whole lot of ca...   \n",
       "2  so the case came on time, i love the design. I...   \n",
       "3  DON'T CARE FOR IT.  GAVE IT AS A GIFT AND THEY...   \n",
       "4  I liked it because it was cute, but the studs ...   \n",
       "\n",
       "                               summary  unixReviewTime  vote image  \n",
       "0  Can't stop won't stop looking at it      1407110400   NaN   NaN  \n",
       "1                                    1      1392163200   NaN   NaN  \n",
       "2                             Its okay      1391817600   NaN   NaN  \n",
       "3                                 CASE      1391472000   NaN   NaN  \n",
       "4                                Cute!      1391385600   NaN   NaN  "
      ]
     },
     "execution_count": 1,
     "metadata": {},
     "output_type": "execute_result"
    }
   ],
   "source": [
    "# Dataframe\n",
    "import pandas as pd\n",
    "\n",
    "\n",
    "## Imporing the Cell Phones and Accessories Dataset with Pandas\n",
    "\n",
    "with open('Datasets/Sample_Cell_Phones_and_Accessories_5.json') as data:\n",
    "    review_df = pd.read_json(data, orient='records', lines=True)\n",
    "\n",
    "# Indexing by the asin column \n",
    "review_df = review_df.rename(columns={'overall': 'Rating'})\n",
    "\n",
    "\n",
    "# Checking the reviews sample\n",
    "print (\"Total data:\", str(review_df.shape),)\n",
    "review_df.head()\n",
    "\n"
   ]
  },
  {
   "cell_type": "code",
   "execution_count": 2,
   "metadata": {
    "scrolled": true
   },
   "outputs": [
    {
     "data": {
      "text/html": [
       "<div>\n",
       "<style scoped>\n",
       "    .dataframe tbody tr th:only-of-type {\n",
       "        vertical-align: middle;\n",
       "    }\n",
       "\n",
       "    .dataframe tbody tr th {\n",
       "        vertical-align: top;\n",
       "    }\n",
       "\n",
       "    .dataframe thead th {\n",
       "        text-align: right;\n",
       "    }\n",
       "</style>\n",
       "<table border=\"1\" class=\"dataframe\">\n",
       "  <thead>\n",
       "    <tr style=\"text-align: right;\">\n",
       "      <th></th>\n",
       "      <th>category</th>\n",
       "      <th>tech1</th>\n",
       "      <th>description</th>\n",
       "      <th>fit</th>\n",
       "      <th>title</th>\n",
       "      <th>also_buy</th>\n",
       "      <th>tech2</th>\n",
       "      <th>brand</th>\n",
       "      <th>feature</th>\n",
       "      <th>rank</th>\n",
       "      <th>also_view</th>\n",
       "      <th>details</th>\n",
       "      <th>main_cat</th>\n",
       "      <th>similar_item</th>\n",
       "      <th>date</th>\n",
       "      <th>price</th>\n",
       "      <th>asin</th>\n",
       "      <th>imageURL</th>\n",
       "      <th>imageURLHighRes</th>\n",
       "    </tr>\n",
       "  </thead>\n",
       "  <tbody>\n",
       "    <tr>\n",
       "      <th>0</th>\n",
       "      <td>[Cell Phones &amp; Accessories, Accessories, Scree...</td>\n",
       "      <td></td>\n",
       "      <td>[]</td>\n",
       "      <td></td>\n",
       "      <td>Trollies Sing a Long Party VHS</td>\n",
       "      <td>[]</td>\n",
       "      <td></td>\n",
       "      <td></td>\n",
       "      <td>[]</td>\n",
       "      <td>557,379 in Movies &amp; TV (</td>\n",
       "      <td>[]</td>\n",
       "      <td>{'asin': '6303195164'}</td>\n",
       "      <td>Movies &amp; TV</td>\n",
       "      <td></td>\n",
       "      <td></td>\n",
       "      <td></td>\n",
       "      <td>6303195164</td>\n",
       "      <td>[]</td>\n",
       "      <td>[]</td>\n",
       "    </tr>\n",
       "    <tr>\n",
       "      <th>1</th>\n",
       "      <td>[Cell Phones &amp; Accessories, Accessories, Car A...</td>\n",
       "      <td></td>\n",
       "      <td>[]</td>\n",
       "      <td></td>\n",
       "      <td>La Pura VHS</td>\n",
       "      <td>[]</td>\n",
       "      <td></td>\n",
       "      <td>Maribel Guardia</td>\n",
       "      <td>[]</td>\n",
       "      <td>1,024,449 in Movies &amp; TV (</td>\n",
       "      <td>[]</td>\n",
       "      <td>{'asin': '630524412X'}</td>\n",
       "      <td>Movies &amp; TV</td>\n",
       "      <td></td>\n",
       "      <td></td>\n",
       "      <td></td>\n",
       "      <td>630524412X</td>\n",
       "      <td>[]</td>\n",
       "      <td>[]</td>\n",
       "    </tr>\n",
       "    <tr>\n",
       "      <th>2</th>\n",
       "      <td>[Cell Phones &amp; Accessories, Cases, Holsters &amp; ...</td>\n",
       "      <td></td>\n",
       "      <td>[New items to give you a new good mood, welcom...</td>\n",
       "      <td></td>\n",
       "      <td>Leopard Thanksgiving Easter PC Black Case for ...</td>\n",
       "      <td>[]</td>\n",
       "      <td></td>\n",
       "      <td></td>\n",
       "      <td>[]</td>\n",
       "      <td>5,315,017 in Books (</td>\n",
       "      <td>[]</td>\n",
       "      <td>{'Publisher:': 'juduiou', 'asin': '6310200240'...</td>\n",
       "      <td>Books</td>\n",
       "      <td></td>\n",
       "      <td></td>\n",
       "      <td></td>\n",
       "      <td>6310200240</td>\n",
       "      <td>[]</td>\n",
       "      <td>[]</td>\n",
       "    </tr>\n",
       "    <tr>\n",
       "      <th>3</th>\n",
       "      <td>[Cell Phones &amp; Accessories, Cases, Holsters &amp; ...</td>\n",
       "      <td></td>\n",
       "      <td>[A brand-new, unused, unopened, undamaged item...</td>\n",
       "      <td></td>\n",
       "      <td>Puppies Faceplate Hard Case Protector for Net1...</td>\n",
       "      <td>[]</td>\n",
       "      <td></td>\n",
       "      <td>Live2Pedal</td>\n",
       "      <td>[Protect your phone with style through this At...</td>\n",
       "      <td>[&gt;#6,368,825 in Cell Phones &amp; Accessories (See...</td>\n",
       "      <td>[]</td>\n",
       "      <td>{}</td>\n",
       "      <td>Cell Phones &amp; Accessories</td>\n",
       "      <td></td>\n",
       "      <td></td>\n",
       "      <td></td>\n",
       "      <td>6786501710</td>\n",
       "      <td>[]</td>\n",
       "      <td>[]</td>\n",
       "    </tr>\n",
       "    <tr>\n",
       "      <th>4</th>\n",
       "      <td>[Cell Phones &amp; Accessories, Cases, Holsters &amp; ...</td>\n",
       "      <td></td>\n",
       "      <td>[A brand-new, unused, unopened, undamaged item...</td>\n",
       "      <td></td>\n",
       "      <td>White Wolf Faceplate Protector Hard Case for S...</td>\n",
       "      <td>[]</td>\n",
       "      <td></td>\n",
       "      <td>wirelessoutletusa</td>\n",
       "      <td>[Protect your phone with style through this At...</td>\n",
       "      <td>[&gt;#2,672,454 in Cell Phones &amp; Accessories (See...</td>\n",
       "      <td>[]</td>\n",
       "      <td>{}</td>\n",
       "      <td>Cell Phones &amp; Accessories</td>\n",
       "      <td></td>\n",
       "      <td></td>\n",
       "      <td></td>\n",
       "      <td>6786501273</td>\n",
       "      <td>[]</td>\n",
       "      <td>[]</td>\n",
       "    </tr>\n",
       "  </tbody>\n",
       "</table>\n",
       "</div>"
      ],
      "text/plain": [
       "                                            category tech1  \\\n",
       "0  [Cell Phones & Accessories, Accessories, Scree...         \n",
       "1  [Cell Phones & Accessories, Accessories, Car A...         \n",
       "2  [Cell Phones & Accessories, Cases, Holsters & ...         \n",
       "3  [Cell Phones & Accessories, Cases, Holsters & ...         \n",
       "4  [Cell Phones & Accessories, Cases, Holsters & ...         \n",
       "\n",
       "                                         description fit  \\\n",
       "0                                                 []       \n",
       "1                                                 []       \n",
       "2  [New items to give you a new good mood, welcom...       \n",
       "3  [A brand-new, unused, unopened, undamaged item...       \n",
       "4  [A brand-new, unused, unopened, undamaged item...       \n",
       "\n",
       "                                               title also_buy tech2  \\\n",
       "0                     Trollies Sing a Long Party VHS       []         \n",
       "1                                        La Pura VHS       []         \n",
       "2  Leopard Thanksgiving Easter PC Black Case for ...       []         \n",
       "3  Puppies Faceplate Hard Case Protector for Net1...       []         \n",
       "4  White Wolf Faceplate Protector Hard Case for S...       []         \n",
       "\n",
       "               brand                                            feature  \\\n",
       "0                                                                    []   \n",
       "1    Maribel Guardia                                                 []   \n",
       "2                                                                    []   \n",
       "3         Live2Pedal  [Protect your phone with style through this At...   \n",
       "4  wirelessoutletusa  [Protect your phone with style through this At...   \n",
       "\n",
       "                                                rank also_view  \\\n",
       "0                           557,379 in Movies & TV (        []   \n",
       "1                         1,024,449 in Movies & TV (        []   \n",
       "2                               5,315,017 in Books (        []   \n",
       "3  [>#6,368,825 in Cell Phones & Accessories (See...        []   \n",
       "4  [>#2,672,454 in Cell Phones & Accessories (See...        []   \n",
       "\n",
       "                                             details  \\\n",
       "0                             {'asin': '6303195164'}   \n",
       "1                             {'asin': '630524412X'}   \n",
       "2  {'Publisher:': 'juduiou', 'asin': '6310200240'...   \n",
       "3                                                 {}   \n",
       "4                                                 {}   \n",
       "\n",
       "                    main_cat similar_item date price        asin imageURL  \\\n",
       "0                Movies & TV                          6303195164       []   \n",
       "1                Movies & TV                          630524412X       []   \n",
       "2                      Books                          6310200240       []   \n",
       "3  Cell Phones & Accessories                          6786501710       []   \n",
       "4  Cell Phones & Accessories                          6786501273       []   \n",
       "\n",
       "  imageURLHighRes  \n",
       "0              []  \n",
       "1              []  \n",
       "2              []  \n",
       "3              []  \n",
       "4              []  "
      ]
     },
     "execution_count": 2,
     "metadata": {},
     "output_type": "execute_result"
    }
   ],
   "source": [
    "# Decompressing the file\n",
    "import gzip\n",
    "\n",
    "## Importing the Metadata of Cell Phones and Accessories Dataset\n",
    "\n",
    "def parse(path):\n",
    "  g = gzip.open(path, 'rb')\n",
    "  for l in g:\n",
    "    yield eval(l)\n",
    "\n",
    "def getDF(path):\n",
    "  i = 0\n",
    "  df = {}\n",
    "  for d in parse(path):\n",
    "    df[i] = d\n",
    "    i += 1\n",
    "  return pd.DataFrame.from_dict(df, orient='index')\n",
    "\n",
    "dfmeta = getDF('Datasets/Sample_meta_Cell_Phones_and_Accessories.json.gz')\n",
    "\n",
    "# Indexing by the asin column \n",
    "\n",
    "#meta_df['asin']=meta_df['asin'].astype(int)\n",
    "\n",
    "# Checking the metadata sample \n",
    "meta_df.head()\n",
    "\n"
   ]
  },
  {
   "cell_type": "code",
   "execution_count": 3,
   "metadata": {},
   "outputs": [
    {
     "ename": "NameError",
     "evalue": "name 'meta_df' is not defined",
     "output_type": "error",
     "traceback": [
      "\u001b[1;31m---------------------------------------------------------------------------\u001b[0m",
      "\u001b[1;31mNameError\u001b[0m                                 Traceback (most recent call last)",
      "\u001b[1;32m<ipython-input-3-16720ac74531>\u001b[0m in \u001b[0;36m<module>\u001b[1;34m\u001b[0m\n\u001b[0;32m      1\u001b[0m \u001b[1;31m## Merging Reviews with Metadata\u001b[0m\u001b[1;33m\u001b[0m\u001b[1;33m\u001b[0m\u001b[1;33m\u001b[0m\u001b[0m\n\u001b[0;32m      2\u001b[0m \u001b[1;33m\u001b[0m\u001b[0m\n\u001b[1;32m----> 3\u001b[1;33m \u001b[0mproduct_reviews\u001b[0m\u001b[1;33m=\u001b[0m\u001b[0mpd\u001b[0m\u001b[1;33m.\u001b[0m\u001b[0mmerge\u001b[0m\u001b[1;33m(\u001b[0m\u001b[0mreview_df\u001b[0m\u001b[1;33m,\u001b[0m\u001b[0mmeta_df\u001b[0m\u001b[1;33m,\u001b[0m\u001b[0mon\u001b[0m\u001b[1;33m=\u001b[0m\u001b[1;34m'asin'\u001b[0m\u001b[1;33m,\u001b[0m \u001b[0mhow\u001b[0m\u001b[1;33m=\u001b[0m\u001b[1;34m'left'\u001b[0m\u001b[1;33m)\u001b[0m\u001b[1;33m\u001b[0m\u001b[1;33m\u001b[0m\u001b[0m\n\u001b[0m\u001b[0;32m      4\u001b[0m \u001b[1;33m\u001b[0m\u001b[0m\n\u001b[0;32m      5\u001b[0m \u001b[0mproduct_reviews\u001b[0m\u001b[1;33m.\u001b[0m\u001b[0mhead\u001b[0m\u001b[1;33m(\u001b[0m\u001b[1;33m)\u001b[0m\u001b[1;33m\u001b[0m\u001b[1;33m\u001b[0m\u001b[0m\n",
      "\u001b[1;31mNameError\u001b[0m: name 'meta_df' is not defined"
     ]
    }
   ],
   "source": [
    "## Merging Reviews with Metadata\n",
    "\n",
    "product_reviews=pd.merge(review_df,meta_df,on='asin', how='left')\n",
    "\n",
    "product_reviews.head()"
   ]
  },
  {
   "cell_type": "code",
   "execution_count": null,
   "metadata": {
    "scrolled": true
   },
   "outputs": [],
   "source": [
    "print (\"Total products:\", str(product_reviews.shape))"
   ]
  },
  {
   "cell_type": "code",
   "execution_count": null,
   "metadata": {},
   "outputs": [],
   "source": [
    "product_reviews.info()"
   ]
  },
  {
   "cell_type": "markdown",
   "metadata": {},
   "source": [
    "## Data Wrangling "
   ]
  },
  {
   "cell_type": "code",
   "execution_count": null,
   "metadata": {},
   "outputs": [],
   "source": [
    "## Extracting Cell Phones from title column\n",
    "\n",
    "# Choosing verified reviews with title\n",
    "product_reviews=product_reviews.dropna(subset=['title'])\n",
    "product_reviews=product_reviews[product_reviews.verified == True]\n",
    "\n",
    "phone_reviews = product_reviews[product_reviews[\"title\"].str.contains(\"phone|phones|Phone|Phones|cell|Cell|mobile \")]"
   ]
  },
  {
   "cell_type": "code",
   "execution_count": null,
   "metadata": {},
   "outputs": [],
   "source": [
    "phone_reviews.shape"
   ]
  },
  {
   "cell_type": "code",
   "execution_count": null,
   "metadata": {},
   "outputs": [],
   "source": [
    "# cheking the missing values\n",
    "\n",
    "phone_reviews.isnull().sum()"
   ]
  },
  {
   "cell_type": "code",
   "execution_count": null,
   "metadata": {},
   "outputs": [],
   "source": [
    "# deleting duplicates based on'asin', 'reviewName' and 'unixReviewTime'columns\n",
    "\n",
    "phone_reviews[phone_reviews.duplicated(['reviewerName','unixReviewTime','asin'],keep= False)]"
   ]
  },
  {
   "cell_type": "code",
   "execution_count": null,
   "metadata": {},
   "outputs": [],
   "source": [
    "# Dropping some columns from the Dataset\n",
    "\n",
    "phone_reviews=phone_reviews.drop(['style','image','reviewerID','reviewTime','verified','reviewerName','tech1','tech2','main_cat','fit','also_view','also_buy','unixReviewTime','date','imageURL'],axis=1)"
   ]
  },
  {
   "cell_type": "code",
   "execution_count": null,
   "metadata": {
    "scrolled": true
   },
   "outputs": [],
   "source": [
    "phone_reviews.isnull().sum()"
   ]
  },
  {
   "cell_type": "code",
   "execution_count": null,
   "metadata": {},
   "outputs": [],
   "source": [
    "# Dropping null value columns\n",
    "\n",
    "phone_reviews=phone_reviews.dropna(subset=['reviewText','summary','vote'])"
   ]
  },
  {
   "cell_type": "code",
   "execution_count": null,
   "metadata": {},
   "outputs": [],
   "source": [
    "# Last check\n",
    "\n",
    "phone_reviews.isnull().sum()"
   ]
  },
  {
   "cell_type": "code",
   "execution_count": null,
   "metadata": {},
   "outputs": [],
   "source": [
    "phone_reviews.info()"
   ]
  },
  {
   "cell_type": "code",
   "execution_count": null,
   "metadata": {},
   "outputs": [],
   "source": [
    "# Saving Dataframe in csv \n",
    "\n",
    "phone_reviews.to_csv('Datasets/phone_reviews.csv', sep=',', index = False)"
   ]
  },
  {
   "cell_type": "code",
   "execution_count": null,
   "metadata": {},
   "outputs": [],
   "source": [
    "phone_reviews = pd.read_csv('Datasets/phone_reviews.csv')"
   ]
  },
  {
   "cell_type": "code",
   "execution_count": null,
   "metadata": {},
   "outputs": [],
   "source": [
    "# Concatenate reviewText and summary \n",
    "\n",
    "phone_reviews['review_text'] = phone_reviews[['summary', 'reviewText']].apply(lambda x: \" \".join(str(y) for y in x if str(y) != 'nan'), axis = 1)\n",
    "cln_phone_reviews = phone_reviews.drop(['reviewText', 'summary'], axis = 1)\n",
    "cln_phone_reviews.head()"
   ]
  },
  {
   "cell_type": "code",
   "execution_count": null,
   "metadata": {
    "scrolled": false
   },
   "outputs": [],
   "source": [
    "cln_phone_reviews['review_text'][4]"
   ]
  },
  {
   "cell_type": "code",
   "execution_count": null,
   "metadata": {},
   "outputs": [],
   "source": [
    "# Apply a helpfullness ratio from votes\n",
    "\n",
    "\n",
    "\"\"\"# Drop redundant 'helpful' column\n",
    "phone_reviews1 = phone_reviews1.drop('vote', axis = 1)\n",
    "phone_reviews1.head()\"\"\"\n",
    "\n",
    "cln_phone_reviews['helpfulness'] = cln_phone_reviews['vote'].apply(lambda x: x/100)\n",
    "cln_phone_reviews = cln_phone_reviews.drop('vote', axis = 1)\n",
    "cln_phone_reviews.head()"
   ]
  }
 ],
 "metadata": {
  "kernelspec": {
   "display_name": "Python 3",
   "language": "python",
   "name": "python3"
  },
  "language_info": {
   "codemirror_mode": {
    "name": "ipython",
    "version": 3
   },
   "file_extension": ".py",
   "mimetype": "text/x-python",
   "name": "python",
   "nbconvert_exporter": "python",
   "pygments_lexer": "ipython3",
   "version": "3.8.5"
  }
 },
 "nbformat": 4,
 "nbformat_minor": 4
}
